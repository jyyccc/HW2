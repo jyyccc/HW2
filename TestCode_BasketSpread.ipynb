{
 "cells": [
  {
   "cell_type": "markdown",
   "metadata": {},
   "source": [
    "# Basket option implementation with Bachelier model CV"
   ]
  },
  {
   "cell_type": "code",
   "execution_count": 25,
   "metadata": {},
   "outputs": [
    {
     "name": "stdout",
     "output_type": "stream",
     "text": [
      "The autoreload extension is already loaded. To reload it, use:\n",
      "  %reload_ext autoreload\n"
     ]
    }
   ],
   "source": [
    "%load_ext autoreload\n",
    "%autoreload 2"
   ]
  },
  {
   "cell_type": "code",
   "execution_count": 26,
   "metadata": {},
   "outputs": [],
   "source": [
    "import numpy as np\n",
    "import pyfeng as pf\n",
    "\n",
    "#import option_models as opt\n",
    "from option_models import basket"
   ]
  },
  {
   "cell_type": "code",
   "execution_count": 27,
   "metadata": {},
   "outputs": [],
   "source": [
    "# A trivial test case 1: \n",
    "# one asset have 100% weight (the others zero)\n",
    "# the case should be equivalent to the BSM or Normal model price\n",
    "\n",
    "spot = np.ones(4) * 100\n",
    "vol = np.ones(4) * 0.4\n",
    "weights = np.array([1, 0, 0, 0])\n",
    "divr = np.zeros(4)\n",
    "intr = 0\n",
    "cor_m = 0.5*np.identity(4) + 0.5\n",
    "texp = 5\n",
    "strike = 120"
   ]
  },
  {
   "cell_type": "code",
   "execution_count": 28,
   "metadata": {},
   "outputs": [
    {
     "data": {
      "text/plain": [
       "array([[1. , 0.5, 0.5, 0.5],\n",
       "       [0.5, 1. , 0.5, 0.5],\n",
       "       [0.5, 0.5, 1. , 0.5],\n",
       "       [0.5, 0.5, 0.5, 1. ]])"
      ]
     },
     "execution_count": 28,
     "metadata": {},
     "output_type": "execute_result"
    }
   ],
   "source": [
    "cor_m"
   ]
  },
  {
   "cell_type": "code",
   "execution_count": 29,
   "metadata": {},
   "outputs": [
    {
     "name": "stdout",
     "output_type": "stream",
     "text": [
      "[1 0 0 0]\n",
      "26.570984651213593\n"
     ]
    }
   ],
   "source": [
    "print(weights)\n",
    "\n",
    "np.random.seed(123456)\n",
    "price_basket = basket.basket_price_mc(strike, spot, vol*spot, weights, texp, cor_m, bsm=False)\n",
    "print(price_basket)"
   ]
  },
  {
   "cell_type": "code",
   "execution_count": 30,
   "metadata": {},
   "outputs": [
    {
     "name": "stdout",
     "output_type": "stream",
     "text": [
      "26.570984651213593 26.570845957870503\n"
     ]
    }
   ],
   "source": [
    "# Compare the price to normal model formula\n",
    "\n",
    "norm1 = pf.Norm(sigma=40)\n",
    "price_norm = norm1.price(strike, spot[0], texp, cp=1)\n",
    "print(price_basket, price_norm)"
   ]
  },
  {
   "cell_type": "code",
   "execution_count": 31,
   "metadata": {},
   "outputs": [
    {
     "name": "stdout",
     "output_type": "stream",
     "text": [
      "[[1.     0.9999 0.9999 0.9999]\n",
      " [0.9999 1.     0.9999 0.9999]\n",
      " [0.9999 0.9999 1.     0.9999]\n",
      " [0.9999 0.9999 0.9999 1.    ]]\n",
      "26.57211110181949 26.570845957870503\n"
     ]
    }
   ],
   "source": [
    "# A trivial test case 2\n",
    "# all assets almost perfectly correlated:\n",
    "# the case should be equivalent to the BSM or Normal model price\n",
    "\n",
    "spot = np.ones(4) * 100\n",
    "vol = np.ones(4) * 0.4\n",
    "weights = np.ones(4) * 0.25\n",
    "divr = np.zeros(4)\n",
    "intr = 0\n",
    "cor_m = 0.0001*np.identity(4) + 0.9999*np.ones((4,4))\n",
    "texp = 5\n",
    "strike = 120\n",
    "\n",
    "print( cor_m )\n",
    "\n",
    "np.random.seed(123456)\n",
    "price_basket = basket.basket_price_mc(strike, spot, vol*spot, weights, texp, cor_m, bsm=False)\n",
    "print(price_basket, price_norm)"
   ]
  },
  {
   "cell_type": "code",
   "execution_count": 32,
   "metadata": {},
   "outputs": [],
   "source": [
    "# A full test set for basket option with exact price\n",
    "\n",
    "spot = np.ones(4) * 100\n",
    "vol = np.ones(4) * 0.4\n",
    "weights = np.ones(4) * 0.25\n",
    "divr = np.zeros(4)\n",
    "intr = 0\n",
    "cor_m = 0.5*np.identity(4) + 0.5\n",
    "texp = 5\n",
    "strike = 100\n",
    "price_exact = 28.0073695"
   ]
  },
  {
   "cell_type": "code",
   "execution_count": 33,
   "metadata": {},
   "outputs": [
    {
     "data": {
      "text/plain": [
       "(array([0.25, 0.25, 0.25, 0.25]), array([[1. , 0.5, 0.5, 0.5],\n",
       "        [0.5, 1. , 0.5, 0.5],\n",
       "        [0.5, 0.5, 1. , 0.5],\n",
       "        [0.5, 0.5, 0.5, 1. ]]))"
      ]
     },
     "execution_count": 33,
     "metadata": {},
     "output_type": "execute_result"
    }
   ],
   "source": [
    "weights, cor_m"
   ]
  },
  {
   "cell_type": "code",
   "execution_count": 34,
   "metadata": {},
   "outputs": [
    {
     "name": "stdout",
     "output_type": "stream",
     "text": [
      "28.22782882893394 28.0073695\n"
     ]
    }
   ],
   "source": [
    "price_basket = basket.basket_price_mc(strike, spot, vol*spot, weights, texp, cor_m, bsm=False)\n",
    "print(price_basket, price_exact)"
   ]
  },
  {
   "cell_type": "markdown",
   "metadata": {},
   "source": [
    "# [To Do] Basket option implementation based on BSM model\n",
    "## Write the similar test for BSM"
   ]
  },
  {
   "cell_type": "code",
   "execution_count": 35,
   "metadata": {},
   "outputs": [
    {
     "name": "stdout",
     "output_type": "stream",
     "text": [
      "27.967309091912327\n"
     ]
    }
   ],
   "source": [
    "price_basket = basket.basket_price_mc(strike, spot, vol, weights, texp, cor_m, bsm=True)\n",
    "print(price_basket)"
   ]
  },
  {
   "cell_type": "code",
   "execution_count": 36,
   "metadata": {},
   "outputs": [
    {
     "name": "stdout",
     "output_type": "stream",
     "text": [
      "[1 0 0 0]\n"
     ]
    }
   ],
   "source": [
    "# A trivial test case 1: \n",
    "# one asset have 100% weight (the others zero)\n",
    "# the case should be equivalent to the BSM or Normal model price\n",
    "\n",
    "spot = np.ones(4) * 100\n",
    "vol = np.ones(4) * 0.4\n",
    "weights = np.array([1, 0, 0, 0])\n",
    "divr = np.zeros(4)\n",
    "intr = 0\n",
    "cor_m = 0.5*np.identity(4) + 0.5\n",
    "texp = 5\n",
    "strike = 120\n",
    "\n",
    "print(weights)\n",
    "\n",
    "np.random.seed(123456)\n",
    "price_basket = basket.basket_price_mc(strike, spot, vol, weights, texp, cor_m, bsm=True)"
   ]
  },
  {
   "cell_type": "code",
   "execution_count": 37,
   "metadata": {},
   "outputs": [
    {
     "name": "stdout",
     "output_type": "stream",
     "text": [
      "28.514393651998596 28.713486748445934\n"
     ]
    }
   ],
   "source": [
    "bsm1 = pf.Bsm(sigma=vol[0])\n",
    "price_bsm = bsm1.price(strike, spot[0], texp, cp=1)\n",
    "print(price_basket, price_bsm)"
   ]
  },
  {
   "cell_type": "markdown",
   "metadata": {},
   "source": [
    "# Spread option implementation based on normal model"
   ]
  },
  {
   "cell_type": "code",
   "execution_count": 38,
   "metadata": {},
   "outputs": [],
   "source": [
    "# A full test set for spread option\n",
    "\n",
    "spot = np.array([100, 96])\n",
    "vol = np.array([0.2, 0.1])\n",
    "weights = np.array([1, -1])\n",
    "divr = np.array([1, 1])*0.05\n",
    "intr = 0.1\n",
    "cor = 0.5\n",
    "cor_m = np.array([[1, cor], [cor, 1]])\n",
    "texp = 1\n",
    "strike = 0\n",
    "price_exact = 8.5132252"
   ]
  },
  {
   "cell_type": "code",
   "execution_count": 39,
   "metadata": {},
   "outputs": [
    {
     "name": "stdout",
     "output_type": "stream",
     "text": [
      "8.317680907159142 8.5132252\n"
     ]
    }
   ],
   "source": [
    "# MC price based on normal model\n",
    "# make sure that the prices are similar\n",
    "\n",
    "np.random.seed(123456)\n",
    "price_spread = basket.basket_price_mc(strike, spot, vol*spot, weights, texp, cor_m, intr=intr, divr=divr, bsm=False)\n",
    "print(price_spread, price_exact)"
   ]
  },
  {
   "cell_type": "markdown",
   "metadata": {},
   "source": [
    "# Spread option implementation based on BSM model"
   ]
  },
  {
   "cell_type": "code",
   "execution_count": 40,
   "metadata": {},
   "outputs": [
    {
     "data": {
      "text/plain": [
       "8.530935560352313"
      ]
     },
     "execution_count": 40,
     "metadata": {},
     "output_type": "execute_result"
    }
   ],
   "source": [
    "# Once the implementation is finished the BSM model price should also work\n",
    "price_spread = basket.basket_price_mc(\n",
    "    strike, spot, vol, weights, texp, cor_m, intr=intr, divr=divr, bsm=True)\n",
    "price_spread"
   ]
  },
  {
   "cell_type": "code",
   "execution_count": 42,
   "metadata": {},
   "outputs": [
    {
     "name": "stdout",
     "output_type": "stream",
     "text": [
      "8.513225229545505 8.530935560352313\n"
     ]
    }
   ],
   "source": [
    "# You also test Kirk's approximation\n",
    "kirk = pf.BsmSpreadKirk(vol, cor=cor, divr=divr, intr=intr)\n",
    "price_kirk = kirk.price(strike, spot, texp)\n",
    "print(price_kirk, price_spread)"
   ]
  },
  {
   "cell_type": "markdown",
   "metadata": {},
   "source": [
    "# [To Do] Complete the implementation of basket_price_norm_analytic\n",
    "# Compare the MC stdev of BSM basket prices from with and without CV"
   ]
  },
  {
   "cell_type": "code",
   "execution_count": 43,
   "metadata": {},
   "outputs": [],
   "source": [
    "# The basket option example from above\n",
    "spot = np.ones(4) * 100\n",
    "vol = np.ones(4) * 0.4\n",
    "weights = np.array([1, 1, 1, 1])/4\n",
    "divr = np.zeros(4)\n",
    "intr = 0\n",
    "cor_m = 0.5*np.identity(4) + 0.5\n",
    "texp = 5\n",
    "strike = 120"
   ]
  },
  {
   "cell_type": "code",
   "execution_count": 46,
   "metadata": {},
   "outputs": [
    {
     "data": {
      "text/plain": [
       "19.330395569726363"
      ]
     },
     "execution_count": 46,
     "metadata": {},
     "output_type": "execute_result"
    }
   ],
   "source": [
    "### Make sure that the analytic normal price is correctly implemented\n",
    "basket.basket_price_norm_analytic(strike, spot, vol*spot, weights, texp, cor_m, intr=intr, divr=divr)"
   ]
  },
  {
   "cell_type": "code",
   "execution_count": 58,
   "metadata": {},
   "outputs": [
    {
     "name": "stdout",
     "output_type": "stream",
     "text": [
      "21.846262723367822 21.80459751926518\n",
      "0.5839033218407825 0.34861268901688763\n"
     ]
    }
   ],
   "source": [
    "# Run below about 100 times and get the mean and stdev\n",
    "\n",
    "### Returns 2 prices, without CV and with CV \n",
    "result=np.zeros(shape=(100,2))\n",
    "for i in range(100):\n",
    "    price_basket = basket.basket_price_mc_cv(strike, spot, vol, weights, texp, cor_m)\n",
    "    result[i,:]=price_basket\n",
    "mean_without_cv=np.mean(result[:,0])\n",
    "mean_with_cv=np.mean(result[:,1])\n",
    "stdev_without_cv=np.std(result[:,0])\n",
    "stdev_with_cv=np.std(result[:,1])\n",
    "print(mean_without_cv, mean_with_cv)\n",
    "print(stdev_without_cv, stdev_with_cv)"
   ]
  },
  {
   "cell_type": "code",
   "execution_count": 55,
   "metadata": {},
   "outputs": [
    {
     "name": "stdout",
     "output_type": "stream",
     "text": [
      "[[21.68122514 21.64000961]\n",
      " [21.61407341 21.74872574]\n",
      " [21.88120818 21.78417659]\n",
      " [20.96696968 21.50458401]\n",
      " [21.75711901 21.67280828]\n",
      " [22.50046706 22.39371109]\n",
      " [20.88812737 21.70401853]\n",
      " [22.12811987 22.00479216]\n",
      " [22.87403192 22.36631445]\n",
      " [21.58226416 21.43355241]\n",
      " [21.73036959 21.77636647]\n",
      " [22.1067677  22.22910494]\n",
      " [21.26603705 21.63860384]\n",
      " [22.0518206  21.75573323]\n",
      " [22.84147046 22.18168071]\n",
      " [22.31486655 22.13020785]\n",
      " [20.88784223 21.28406036]\n",
      " [21.10712089 21.48916264]\n",
      " [21.09699775 21.47659112]\n",
      " [22.78116977 22.2005955 ]\n",
      " [21.47275083 21.75962814]\n",
      " [23.06187918 22.45955597]\n",
      " [22.33558083 22.15049136]\n",
      " [22.88782296 22.51205073]\n",
      " [20.95405175 21.29627157]\n",
      " [21.93447499 21.76389661]\n",
      " [21.79012592 21.71326792]\n",
      " [21.30147762 21.56528061]\n",
      " [22.56765452 22.1165392 ]\n",
      " [21.29197749 21.30112594]\n",
      " [22.99448117 22.3185075 ]\n",
      " [22.02622992 21.73642118]\n",
      " [21.32903359 21.379808  ]\n",
      " [20.96558383 21.25877991]\n",
      " [21.81753188 21.96521053]\n",
      " [22.82851766 22.23026551]\n",
      " [22.38951434 22.05562868]\n",
      " [22.18089944 21.64181788]\n",
      " [20.95348199 21.3522727 ]\n",
      " [21.05421475 21.45868198]\n",
      " [22.27886361 22.06141516]\n",
      " [22.76794682 21.98945744]\n",
      " [21.64306313 21.78447261]\n",
      " [22.46161845 22.04075422]\n",
      " [22.14329412 21.68676003]\n",
      " [21.72388303 21.7979737 ]\n",
      " [21.73430731 21.94183819]\n",
      " [21.08627077 21.35822928]\n",
      " [21.72538024 22.1418961 ]\n",
      " [21.19850098 21.67921895]\n",
      " [21.17861322 21.3968438 ]\n",
      " [21.7521885  21.69023904]\n",
      " [22.5656476  22.25381499]\n",
      " [21.04826393 21.350298  ]\n",
      " [20.66756951 21.27353932]\n",
      " [21.73561137 21.89158214]\n",
      " [21.01110531 21.30890842]\n",
      " [21.77145341 21.68156035]\n",
      " [21.81124833 21.75504856]\n",
      " [22.66972083 22.05551148]\n",
      " [21.88946189 21.75433781]\n",
      " [22.17451826 21.81518308]\n",
      " [21.3599773  21.72829472]\n",
      " [21.36300434 21.7185957 ]\n",
      " [20.46354897 21.56411096]\n",
      " [22.21116188 21.91499538]\n",
      " [20.85941441 20.97737728]\n",
      " [21.3374629  21.26626183]\n",
      " [21.42677873 21.78029468]\n",
      " [21.5164377  21.63104961]\n",
      " [22.08953277 21.97325759]\n",
      " [22.28606316 21.89476568]\n",
      " [21.04640172 21.54089967]\n",
      " [22.86829952 22.42803622]\n",
      " [22.72755072 22.10558338]\n",
      " [20.69618625 21.21610683]\n",
      " [20.69070988 21.38193   ]\n",
      " [22.18331924 21.82483228]\n",
      " [22.68617828 22.29568244]\n",
      " [21.39854547 21.63048931]\n",
      " [22.17266423 22.05230162]\n",
      " [21.28162763 21.5676946 ]\n",
      " [22.32523178 22.23798705]\n",
      " [22.05453849 21.90760728]\n",
      " [21.92056372 21.69857968]\n",
      " [21.75550656 21.62837283]\n",
      " [21.67083741 21.69613482]\n",
      " [22.26748121 22.10101219]\n",
      " [20.98728157 21.32175597]\n",
      " [23.11286364 22.40066047]\n",
      " [21.54414328 21.67911186]\n",
      " [20.90148722 21.15438629]\n",
      " [21.37404762 21.70741758]\n",
      " [22.49141273 21.9345826 ]\n",
      " [21.32976658 21.38288957]\n",
      " [21.55287969 21.52925328]\n",
      " [22.99068108 22.60675081]\n",
      " [21.74221532 21.56018134]\n",
      " [20.89489583 21.44536132]\n",
      " [21.15329954 21.65407027]]\n"
     ]
    }
   ],
   "source": [
    "print(result)"
   ]
  },
  {
   "cell_type": "code",
   "execution_count": null,
   "metadata": {},
   "outputs": [],
   "source": []
  }
 ],
 "metadata": {
  "anaconda-cloud": {},
  "kernelspec": {
   "display_name": "Python 3",
   "language": "python",
   "name": "python3"
  },
  "language_info": {
   "codemirror_mode": {
    "name": "ipython",
    "version": 3
   },
   "file_extension": ".py",
   "mimetype": "text/x-python",
   "name": "python",
   "nbconvert_exporter": "python",
   "pygments_lexer": "ipython3",
   "version": "3.6.4"
  }
 },
 "nbformat": 4,
 "nbformat_minor": 1
}
